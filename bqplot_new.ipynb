{
 "cells": [
  {
   "cell_type": "code",
   "execution_count": 1,
   "id": "c074bd8e",
   "metadata": {},
   "outputs": [],
   "source": [
    "import bqplot\n",
    "from bqplot import pyplot as plt\n",
    "from bqplot import Tooltip\n",
    "\n",
    "import pandas as pd\n",
    "import numpy as np\n",
    "import seaborn as sns\n",
    "import sklearn\n",
    "\n",
    "import warnings\n",
    "warnings.filterwarnings(\"ignore\")"
   ]
  },
  {
   "cell_type": "code",
   "execution_count": 2,
   "id": "af9c4607",
   "metadata": {},
   "outputs": [
    {
     "data": {
      "text/html": [
       "<div>\n",
       "<style scoped>\n",
       "    .dataframe tbody tr th:only-of-type {\n",
       "        vertical-align: middle;\n",
       "    }\n",
       "\n",
       "    .dataframe tbody tr th {\n",
       "        vertical-align: top;\n",
       "    }\n",
       "\n",
       "    .dataframe thead th {\n",
       "        text-align: right;\n",
       "    }\n",
       "</style>\n",
       "<table border=\"1\" class=\"dataframe\">\n",
       "  <thead>\n",
       "    <tr style=\"text-align: right;\">\n",
       "      <th></th>\n",
       "      <th>mpg</th>\n",
       "      <th>cylinders</th>\n",
       "      <th>displacement</th>\n",
       "      <th>horsepower</th>\n",
       "      <th>weight</th>\n",
       "      <th>acceleration</th>\n",
       "      <th>model year</th>\n",
       "      <th>origin</th>\n",
       "      <th>car name</th>\n",
       "    </tr>\n",
       "  </thead>\n",
       "  <tbody>\n",
       "    <tr>\n",
       "      <th>0</th>\n",
       "      <td>18.0</td>\n",
       "      <td>8</td>\n",
       "      <td>307.0</td>\n",
       "      <td>130</td>\n",
       "      <td>3504</td>\n",
       "      <td>12.0</td>\n",
       "      <td>70</td>\n",
       "      <td>1</td>\n",
       "      <td>chevrolet chevelle malibu</td>\n",
       "    </tr>\n",
       "    <tr>\n",
       "      <th>1</th>\n",
       "      <td>15.0</td>\n",
       "      <td>8</td>\n",
       "      <td>350.0</td>\n",
       "      <td>165</td>\n",
       "      <td>3693</td>\n",
       "      <td>11.5</td>\n",
       "      <td>70</td>\n",
       "      <td>1</td>\n",
       "      <td>buick skylark 320</td>\n",
       "    </tr>\n",
       "    <tr>\n",
       "      <th>2</th>\n",
       "      <td>18.0</td>\n",
       "      <td>8</td>\n",
       "      <td>318.0</td>\n",
       "      <td>150</td>\n",
       "      <td>3436</td>\n",
       "      <td>11.0</td>\n",
       "      <td>70</td>\n",
       "      <td>1</td>\n",
       "      <td>plymouth satellite</td>\n",
       "    </tr>\n",
       "    <tr>\n",
       "      <th>3</th>\n",
       "      <td>16.0</td>\n",
       "      <td>8</td>\n",
       "      <td>304.0</td>\n",
       "      <td>150</td>\n",
       "      <td>3433</td>\n",
       "      <td>12.0</td>\n",
       "      <td>70</td>\n",
       "      <td>1</td>\n",
       "      <td>amc rebel sst</td>\n",
       "    </tr>\n",
       "    <tr>\n",
       "      <th>4</th>\n",
       "      <td>17.0</td>\n",
       "      <td>8</td>\n",
       "      <td>302.0</td>\n",
       "      <td>140</td>\n",
       "      <td>3449</td>\n",
       "      <td>10.5</td>\n",
       "      <td>70</td>\n",
       "      <td>1</td>\n",
       "      <td>ford torino</td>\n",
       "    </tr>\n",
       "  </tbody>\n",
       "</table>\n",
       "</div>"
      ],
      "text/plain": [
       "    mpg  cylinders  displacement horsepower  weight  acceleration  model year  \\\n",
       "0  18.0          8         307.0        130    3504          12.0          70   \n",
       "1  15.0          8         350.0        165    3693          11.5          70   \n",
       "2  18.0          8         318.0        150    3436          11.0          70   \n",
       "3  16.0          8         304.0        150    3433          12.0          70   \n",
       "4  17.0          8         302.0        140    3449          10.5          70   \n",
       "\n",
       "   origin                   car name  \n",
       "0       1  chevrolet chevelle malibu  \n",
       "1       1          buick skylark 320  \n",
       "2       1         plymouth satellite  \n",
       "3       1              amc rebel sst  \n",
       "4       1                ford torino  "
      ]
     },
     "execution_count": 2,
     "metadata": {},
     "output_type": "execute_result"
    }
   ],
   "source": [
    "df1 = pd.read_csv(r\"C:\\Users\\Devashree\\Desktop\\Analytics Vidhya\\bqplot\\auto-mpg.csv\")\n",
    "df1.head()"
   ]
  },
  {
   "cell_type": "code",
   "execution_count": 3,
   "id": "3c5625d7",
   "metadata": {},
   "outputs": [
    {
     "data": {
      "text/html": [
       "<div>\n",
       "<style scoped>\n",
       "    .dataframe tbody tr th:only-of-type {\n",
       "        vertical-align: middle;\n",
       "    }\n",
       "\n",
       "    .dataframe tbody tr th {\n",
       "        vertical-align: top;\n",
       "    }\n",
       "\n",
       "    .dataframe thead th {\n",
       "        text-align: right;\n",
       "    }\n",
       "</style>\n",
       "<table border=\"1\" class=\"dataframe\">\n",
       "  <thead>\n",
       "    <tr style=\"text-align: right;\">\n",
       "      <th></th>\n",
       "      <th>Symbol</th>\n",
       "      <th>Series</th>\n",
       "      <th>Prev Close</th>\n",
       "      <th>Open</th>\n",
       "      <th>High</th>\n",
       "      <th>Low</th>\n",
       "      <th>Last</th>\n",
       "      <th>Close</th>\n",
       "      <th>VWAP</th>\n",
       "      <th>Volume</th>\n",
       "      <th>Turnover</th>\n",
       "      <th>Trades</th>\n",
       "      <th>Deliverable Volume</th>\n",
       "      <th>%Deliverble</th>\n",
       "    </tr>\n",
       "    <tr>\n",
       "      <th>Date</th>\n",
       "      <th></th>\n",
       "      <th></th>\n",
       "      <th></th>\n",
       "      <th></th>\n",
       "      <th></th>\n",
       "      <th></th>\n",
       "      <th></th>\n",
       "      <th></th>\n",
       "      <th></th>\n",
       "      <th></th>\n",
       "      <th></th>\n",
       "      <th></th>\n",
       "      <th></th>\n",
       "      <th></th>\n",
       "    </tr>\n",
       "  </thead>\n",
       "  <tbody>\n",
       "    <tr>\n",
       "      <th>2000-01-03</th>\n",
       "      <td>UTIBANK</td>\n",
       "      <td>EQ</td>\n",
       "      <td>24.70</td>\n",
       "      <td>26.7</td>\n",
       "      <td>26.70</td>\n",
       "      <td>26.70</td>\n",
       "      <td>26.7</td>\n",
       "      <td>26.70</td>\n",
       "      <td>26.70</td>\n",
       "      <td>112100</td>\n",
       "      <td>2.993070e+11</td>\n",
       "      <td>NaN</td>\n",
       "      <td>NaN</td>\n",
       "      <td>NaN</td>\n",
       "    </tr>\n",
       "    <tr>\n",
       "      <th>2000-01-04</th>\n",
       "      <td>UTIBANK</td>\n",
       "      <td>EQ</td>\n",
       "      <td>26.70</td>\n",
       "      <td>27.0</td>\n",
       "      <td>28.70</td>\n",
       "      <td>26.50</td>\n",
       "      <td>27.0</td>\n",
       "      <td>26.85</td>\n",
       "      <td>27.24</td>\n",
       "      <td>234500</td>\n",
       "      <td>6.387275e+11</td>\n",
       "      <td>NaN</td>\n",
       "      <td>NaN</td>\n",
       "      <td>NaN</td>\n",
       "    </tr>\n",
       "    <tr>\n",
       "      <th>2000-01-05</th>\n",
       "      <td>UTIBANK</td>\n",
       "      <td>EQ</td>\n",
       "      <td>26.85</td>\n",
       "      <td>26.0</td>\n",
       "      <td>27.75</td>\n",
       "      <td>25.50</td>\n",
       "      <td>26.4</td>\n",
       "      <td>26.30</td>\n",
       "      <td>26.24</td>\n",
       "      <td>170100</td>\n",
       "      <td>4.462980e+11</td>\n",
       "      <td>NaN</td>\n",
       "      <td>NaN</td>\n",
       "      <td>NaN</td>\n",
       "    </tr>\n",
       "    <tr>\n",
       "      <th>2000-01-06</th>\n",
       "      <td>UTIBANK</td>\n",
       "      <td>EQ</td>\n",
       "      <td>26.30</td>\n",
       "      <td>25.8</td>\n",
       "      <td>27.00</td>\n",
       "      <td>25.80</td>\n",
       "      <td>25.9</td>\n",
       "      <td>25.95</td>\n",
       "      <td>26.27</td>\n",
       "      <td>102100</td>\n",
       "      <td>2.681730e+11</td>\n",
       "      <td>NaN</td>\n",
       "      <td>NaN</td>\n",
       "      <td>NaN</td>\n",
       "    </tr>\n",
       "    <tr>\n",
       "      <th>2000-01-07</th>\n",
       "      <td>UTIBANK</td>\n",
       "      <td>EQ</td>\n",
       "      <td>25.95</td>\n",
       "      <td>25.0</td>\n",
       "      <td>26.00</td>\n",
       "      <td>24.25</td>\n",
       "      <td>25.0</td>\n",
       "      <td>24.80</td>\n",
       "      <td>25.04</td>\n",
       "      <td>62600</td>\n",
       "      <td>1.567220e+11</td>\n",
       "      <td>NaN</td>\n",
       "      <td>NaN</td>\n",
       "      <td>NaN</td>\n",
       "    </tr>\n",
       "  </tbody>\n",
       "</table>\n",
       "</div>"
      ],
      "text/plain": [
       "             Symbol Series  Prev Close  Open   High    Low  Last  Close  \\\n",
       "Date                                                                      \n",
       "2000-01-03  UTIBANK     EQ       24.70  26.7  26.70  26.70  26.7  26.70   \n",
       "2000-01-04  UTIBANK     EQ       26.70  27.0  28.70  26.50  27.0  26.85   \n",
       "2000-01-05  UTIBANK     EQ       26.85  26.0  27.75  25.50  26.4  26.30   \n",
       "2000-01-06  UTIBANK     EQ       26.30  25.8  27.00  25.80  25.9  25.95   \n",
       "2000-01-07  UTIBANK     EQ       25.95  25.0  26.00  24.25  25.0  24.80   \n",
       "\n",
       "             VWAP  Volume      Turnover  Trades  Deliverable Volume  \\\n",
       "Date                                                                  \n",
       "2000-01-03  26.70  112100  2.993070e+11     NaN                 NaN   \n",
       "2000-01-04  27.24  234500  6.387275e+11     NaN                 NaN   \n",
       "2000-01-05  26.24  170100  4.462980e+11     NaN                 NaN   \n",
       "2000-01-06  26.27  102100  2.681730e+11     NaN                 NaN   \n",
       "2000-01-07  25.04   62600  1.567220e+11     NaN                 NaN   \n",
       "\n",
       "            %Deliverble  \n",
       "Date                     \n",
       "2000-01-03          NaN  \n",
       "2000-01-04          NaN  \n",
       "2000-01-05          NaN  \n",
       "2000-01-06          NaN  \n",
       "2000-01-07          NaN  "
      ]
     },
     "execution_count": 3,
     "metadata": {},
     "output_type": "execute_result"
    }
   ],
   "source": [
    "df2 = pd.read_csv(r\"C:\\Users\\Devashree\\Desktop\\Analytics Vidhya\\bqplot\\AXISBANK.csv\",index_col=0, parse_dates=True)\n",
    "df2.head()"
   ]
  },
  {
   "cell_type": "code",
   "execution_count": 4,
   "id": "e77eafa7",
   "metadata": {},
   "outputs": [
    {
     "data": {
      "text/html": [
       "<div>\n",
       "<style scoped>\n",
       "    .dataframe tbody tr th:only-of-type {\n",
       "        vertical-align: middle;\n",
       "    }\n",
       "\n",
       "    .dataframe tbody tr th {\n",
       "        vertical-align: top;\n",
       "    }\n",
       "\n",
       "    .dataframe thead th {\n",
       "        text-align: right;\n",
       "    }\n",
       "</style>\n",
       "<table border=\"1\" class=\"dataframe\">\n",
       "  <thead>\n",
       "    <tr style=\"text-align: right;\">\n",
       "      <th></th>\n",
       "      <th>Country name</th>\n",
       "      <th>Regional indicator</th>\n",
       "      <th>Ladder score</th>\n",
       "      <th>Standard error of ladder score</th>\n",
       "      <th>upperwhisker</th>\n",
       "      <th>lowerwhisker</th>\n",
       "      <th>Logged GDP per capita</th>\n",
       "      <th>Social support</th>\n",
       "      <th>Healthy life expectancy</th>\n",
       "      <th>Freedom to make life choices</th>\n",
       "      <th>Generosity</th>\n",
       "      <th>Perceptions of corruption</th>\n",
       "      <th>Ladder score in Dystopia</th>\n",
       "      <th>Explained by: Log GDP per capita</th>\n",
       "      <th>Explained by: Social support</th>\n",
       "      <th>Explained by: Healthy life expectancy</th>\n",
       "      <th>Explained by: Freedom to make life choices</th>\n",
       "      <th>Explained by: Generosity</th>\n",
       "      <th>Explained by: Perceptions of corruption</th>\n",
       "      <th>Dystopia + residual</th>\n",
       "    </tr>\n",
       "  </thead>\n",
       "  <tbody>\n",
       "    <tr>\n",
       "      <th>0</th>\n",
       "      <td>Finland</td>\n",
       "      <td>Western Europe</td>\n",
       "      <td>7.842</td>\n",
       "      <td>0.032</td>\n",
       "      <td>7.904</td>\n",
       "      <td>7.780</td>\n",
       "      <td>10.775</td>\n",
       "      <td>0.954</td>\n",
       "      <td>72.0</td>\n",
       "      <td>0.949</td>\n",
       "      <td>-0.098</td>\n",
       "      <td>0.186</td>\n",
       "      <td>2.43</td>\n",
       "      <td>1.446</td>\n",
       "      <td>1.106</td>\n",
       "      <td>0.741</td>\n",
       "      <td>0.691</td>\n",
       "      <td>0.124</td>\n",
       "      <td>0.481</td>\n",
       "      <td>3.253</td>\n",
       "    </tr>\n",
       "    <tr>\n",
       "      <th>1</th>\n",
       "      <td>Denmark</td>\n",
       "      <td>Western Europe</td>\n",
       "      <td>7.620</td>\n",
       "      <td>0.035</td>\n",
       "      <td>7.687</td>\n",
       "      <td>7.552</td>\n",
       "      <td>10.933</td>\n",
       "      <td>0.954</td>\n",
       "      <td>72.7</td>\n",
       "      <td>0.946</td>\n",
       "      <td>0.030</td>\n",
       "      <td>0.179</td>\n",
       "      <td>2.43</td>\n",
       "      <td>1.502</td>\n",
       "      <td>1.108</td>\n",
       "      <td>0.763</td>\n",
       "      <td>0.686</td>\n",
       "      <td>0.208</td>\n",
       "      <td>0.485</td>\n",
       "      <td>2.868</td>\n",
       "    </tr>\n",
       "    <tr>\n",
       "      <th>2</th>\n",
       "      <td>Switzerland</td>\n",
       "      <td>Western Europe</td>\n",
       "      <td>7.571</td>\n",
       "      <td>0.036</td>\n",
       "      <td>7.643</td>\n",
       "      <td>7.500</td>\n",
       "      <td>11.117</td>\n",
       "      <td>0.942</td>\n",
       "      <td>74.4</td>\n",
       "      <td>0.919</td>\n",
       "      <td>0.025</td>\n",
       "      <td>0.292</td>\n",
       "      <td>2.43</td>\n",
       "      <td>1.566</td>\n",
       "      <td>1.079</td>\n",
       "      <td>0.816</td>\n",
       "      <td>0.653</td>\n",
       "      <td>0.204</td>\n",
       "      <td>0.413</td>\n",
       "      <td>2.839</td>\n",
       "    </tr>\n",
       "    <tr>\n",
       "      <th>3</th>\n",
       "      <td>Iceland</td>\n",
       "      <td>Western Europe</td>\n",
       "      <td>7.554</td>\n",
       "      <td>0.059</td>\n",
       "      <td>7.670</td>\n",
       "      <td>7.438</td>\n",
       "      <td>10.878</td>\n",
       "      <td>0.983</td>\n",
       "      <td>73.0</td>\n",
       "      <td>0.955</td>\n",
       "      <td>0.160</td>\n",
       "      <td>0.673</td>\n",
       "      <td>2.43</td>\n",
       "      <td>1.482</td>\n",
       "      <td>1.172</td>\n",
       "      <td>0.772</td>\n",
       "      <td>0.698</td>\n",
       "      <td>0.293</td>\n",
       "      <td>0.170</td>\n",
       "      <td>2.967</td>\n",
       "    </tr>\n",
       "    <tr>\n",
       "      <th>4</th>\n",
       "      <td>Netherlands</td>\n",
       "      <td>Western Europe</td>\n",
       "      <td>7.464</td>\n",
       "      <td>0.027</td>\n",
       "      <td>7.518</td>\n",
       "      <td>7.410</td>\n",
       "      <td>10.932</td>\n",
       "      <td>0.942</td>\n",
       "      <td>72.4</td>\n",
       "      <td>0.913</td>\n",
       "      <td>0.175</td>\n",
       "      <td>0.338</td>\n",
       "      <td>2.43</td>\n",
       "      <td>1.501</td>\n",
       "      <td>1.079</td>\n",
       "      <td>0.753</td>\n",
       "      <td>0.647</td>\n",
       "      <td>0.302</td>\n",
       "      <td>0.384</td>\n",
       "      <td>2.798</td>\n",
       "    </tr>\n",
       "  </tbody>\n",
       "</table>\n",
       "</div>"
      ],
      "text/plain": [
       "  Country name Regional indicator  Ladder score  \\\n",
       "0      Finland     Western Europe         7.842   \n",
       "1      Denmark     Western Europe         7.620   \n",
       "2  Switzerland     Western Europe         7.571   \n",
       "3      Iceland     Western Europe         7.554   \n",
       "4  Netherlands     Western Europe         7.464   \n",
       "\n",
       "   Standard error of ladder score  upperwhisker  lowerwhisker  \\\n",
       "0                           0.032         7.904         7.780   \n",
       "1                           0.035         7.687         7.552   \n",
       "2                           0.036         7.643         7.500   \n",
       "3                           0.059         7.670         7.438   \n",
       "4                           0.027         7.518         7.410   \n",
       "\n",
       "   Logged GDP per capita  Social support  Healthy life expectancy  \\\n",
       "0                 10.775           0.954                     72.0   \n",
       "1                 10.933           0.954                     72.7   \n",
       "2                 11.117           0.942                     74.4   \n",
       "3                 10.878           0.983                     73.0   \n",
       "4                 10.932           0.942                     72.4   \n",
       "\n",
       "   Freedom to make life choices  Generosity  Perceptions of corruption  \\\n",
       "0                         0.949      -0.098                      0.186   \n",
       "1                         0.946       0.030                      0.179   \n",
       "2                         0.919       0.025                      0.292   \n",
       "3                         0.955       0.160                      0.673   \n",
       "4                         0.913       0.175                      0.338   \n",
       "\n",
       "   Ladder score in Dystopia  Explained by: Log GDP per capita  \\\n",
       "0                      2.43                             1.446   \n",
       "1                      2.43                             1.502   \n",
       "2                      2.43                             1.566   \n",
       "3                      2.43                             1.482   \n",
       "4                      2.43                             1.501   \n",
       "\n",
       "   Explained by: Social support  Explained by: Healthy life expectancy  \\\n",
       "0                         1.106                                  0.741   \n",
       "1                         1.108                                  0.763   \n",
       "2                         1.079                                  0.816   \n",
       "3                         1.172                                  0.772   \n",
       "4                         1.079                                  0.753   \n",
       "\n",
       "   Explained by: Freedom to make life choices  Explained by: Generosity  \\\n",
       "0                                       0.691                     0.124   \n",
       "1                                       0.686                     0.208   \n",
       "2                                       0.653                     0.204   \n",
       "3                                       0.698                     0.293   \n",
       "4                                       0.647                     0.302   \n",
       "\n",
       "   Explained by: Perceptions of corruption  Dystopia + residual  \n",
       "0                                    0.481                3.253  \n",
       "1                                    0.485                2.868  \n",
       "2                                    0.413                2.839  \n",
       "3                                    0.170                2.967  \n",
       "4                                    0.384                2.798  "
      ]
     },
     "execution_count": 4,
     "metadata": {},
     "output_type": "execute_result"
    }
   ],
   "source": [
    "df3 = pd.read_csv(r\"C:\\Users\\Devashree\\Desktop\\Analytics Vidhya\\bqplot\\world-happiness-report-2021.csv\")\n",
    "df3.head()"
   ]
  },
  {
   "cell_type": "markdown",
   "id": "8f3a9a4a",
   "metadata": {},
   "source": [
    "## Scatter Plot"
   ]
  },
  {
   "cell_type": "code",
   "execution_count": 5,
   "id": "5f88a653",
   "metadata": {},
   "outputs": [
    {
     "data": {
      "application/vnd.jupyter.widget-view+json": {
       "model_id": "cccb493e3a49412e86ab06a3201c8135",
       "version_major": 2,
       "version_minor": 0
      },
      "text/plain": [
       "VBox(children=(Figure(axes=[Axis(label='acceleration', scale=LinearScale()), Axis(label='mpg', orientation='ve…"
      ]
     },
     "metadata": {},
     "output_type": "display_data"
    }
   ],
   "source": [
    "fig = plt.figure(title=\"Scatter Plot - Acceleration vs MPG\", )\n",
    "options = {'x':{'label':\"acceleration\"}, 'y':{'label':'mpg'}}\n",
    "scat = plt.scatter(df1['acceleration'], df1[\"mpg\"],\n",
    "                   colors=[\"#f72585\", \"#4361ee\"],\n",
    "                   axes_options = options,\n",
    "                   stroke=\"black\", stroke_width=2.0,\n",
    "                   default_size=120,\n",
    "                   default_opacities=[0.5],\n",
    "                   marker=\"circle\",\n",
    "                   )\n",
    "\n",
    "plt.show()"
   ]
  },
  {
   "cell_type": "code",
   "execution_count": 6,
   "id": "e78e278f",
   "metadata": {
    "scrolled": true
   },
   "outputs": [
    {
     "data": {
      "application/vnd.jupyter.widget-view+json": {
       "model_id": "9ade0240b67a4c098fbf84054b0f3c10",
       "version_major": 2,
       "version_minor": 0
      },
      "text/plain": [
       "VBox(children=(Figure(axes=[ColorAxis(label='cylinders', orientation='vertical', scale=ColorScale(), side='rig…"
      ]
     },
     "metadata": {},
     "output_type": "display_data"
    }
   ],
   "source": [
    "fig = plt.figure(title=\"Scatter Plot - Acceleration vs MPG\")\n",
    "fig.layout.height = \"700px\"\n",
    "fig.layout.width = \"600px\"\n",
    "options = {'color': dict(label='cylinders', orientation='vertical', side='right')}\n",
    "\n",
    "scat = plt.scatter(x = df1[\"acceleration\"], y = df1[\"mpg\"],\n",
    "                   color=df1[\"cylinders\"],\n",
    "                   axes_options = options,\n",
    "                   stroke=\"black\", stroke_width=2.0,\n",
    "                   default_size=200,\n",
    "                   default_opacities=[0.9],\n",
    "                   marker=\"circle\",\n",
    "                   )\n",
    "plt.xlabel(\"Acceleration\")\n",
    "plt.ylabel(\"MPG\")\n",
    "plt.xlim(10.7, 15.3)\n",
    "plt.show()"
   ]
  },
  {
   "cell_type": "markdown",
   "id": "aba36527",
   "metadata": {},
   "source": [
    "## Pie Chart"
   ]
  },
  {
   "cell_type": "code",
   "execution_count": 7,
   "id": "68038d61",
   "metadata": {},
   "outputs": [
    {
     "data": {
      "application/vnd.jupyter.widget-view+json": {
       "model_id": "b7120c5bada749adba2b3cfdc943ad38",
       "version_major": 2,
       "version_minor": 0
      },
      "text/plain": [
       "VBox(children=(Figure(animation_duration=1500, fig_margin={'top': 60, 'bottom': 60, 'left': 60, 'right': 60}, …"
      ]
     },
     "metadata": {},
     "output_type": "display_data"
    }
   ],
   "source": [
    "from collections import Counter\n",
    "mpg_ctg = Counter(df1[\"origin\"])\n",
    "fig = plt.figure(title=\"Distribution of Origin\", animation_duration=1500)\n",
    "\n",
    "pie = plt.pie(sizes = list(mpg_ctg.values()),\n",
    "              labels =[\"origin %d\"%val for val in list(mpg_ctg.keys())],\n",
    "              display_values = True,\n",
    "              values_format=\".0f\",\n",
    "              display_labels='outside')\n",
    "pie.colors = [\"#ef476f\",\"#ffd166\", \"#06d6a0\"]\n",
    "pie.opacities = [0.7,0.8,0.9]\n",
    "pie.radius = 150\n",
    "pie.inner_radius = 60\n",
    "pie.font_size = '15px'\n",
    "plt.show()"
   ]
  },
  {
   "cell_type": "markdown",
   "id": "62c717ca",
   "metadata": {},
   "source": [
    "## Box Plot"
   ]
  },
  {
   "cell_type": "code",
   "execution_count": 8,
   "id": "7c3a4450",
   "metadata": {
    "scrolled": true
   },
   "outputs": [
    {
     "data": {
      "application/vnd.jupyter.widget-view+json": {
       "model_id": "e2d934b1e1a846149b4d25af16a9e56d",
       "version_major": 2,
       "version_minor": 0
      },
      "text/plain": [
       "VBox(children=(Figure(axes=[Axis(grid_lines='none', scale=LinearScale()), Axis(grid_lines='none', orientation=…"
      ]
     },
     "metadata": {},
     "output_type": "display_data"
    }
   ],
   "source": [
    "fig = plt.figure(title=\"MPG Box Plot\")\n",
    "mpg_df = df1[[\"mpg\",\"cylinders\",\"displacement\",\"weight\",\"acceleration\"]]\n",
    "boxes = plt.boxplot(x=range(mpg_df.shape[1]), y=mpg_df.values.T)\n",
    "boxes.box_fill_color = '#3a86ff'\n",
    "boxes.opacity = 0.5\n",
    "boxes.box_width = 70\n",
    "plt.grids(value=\"none\")\n",
    "plt.show()"
   ]
  },
  {
   "cell_type": "code",
   "execution_count": 9,
   "id": "fb17af17",
   "metadata": {},
   "outputs": [
    {
     "data": {
      "application/vnd.jupyter.widget-view+json": {
       "model_id": "1b559f0044a5467cab1690b1a3bc2bed",
       "version_major": 2,
       "version_minor": 0
      },
      "text/plain": [
       "VBox(children=(Figure(axes=[Axis(scale=LinearScale()), Axis(orientation='vertical', scale=LinearScale())], fig…"
      ]
     },
     "metadata": {},
     "output_type": "display_data"
    }
   ],
   "source": [
    "fig = plt.figure(title=\"Bar Chart - Displacement\")\n",
    "fig.layout.height = \"500px\"\n",
    "fig.layout.width = \"700px\"\n",
    "df = df1.groupby(by=\"cylinders\").mean()\n",
    "bar_chart  = plt.bar(x =df.index, y= df[\"displacement\"])\n",
    "bar_chart.colors = [\"#e71d36\"]\n",
    "plt.show()"
   ]
  },
  {
   "cell_type": "code",
   "execution_count": 10,
   "id": "9eb1652b",
   "metadata": {},
   "outputs": [
    {
     "data": {
      "application/vnd.jupyter.widget-view+json": {
       "model_id": "13aa58df0b7d46c1bda60b662ae24529",
       "version_major": 2,
       "version_minor": 0
      },
      "text/plain": [
       "VBox(children=(Figure(axes=[Axis(scale=LinearScale()), Axis(orientation='vertical', scale=LinearScale())], fig…"
      ]
     },
     "metadata": {},
     "output_type": "display_data"
    }
   ],
   "source": [
    "fig = plt.figure(title=\"Stacked Bar Chart - MPG vs. Displacement\",legend_location=\"top-left\")\n",
    "fig.layout.height = \"500px\"\n",
    "fig.layout.width = \"700px\"\n",
    "avg_df = df1.groupby(by=\"cylinders\").mean()\n",
    "bar_chart  = plt.bar(x = avg_df.index, y= [avg_df[\"mpg\"],avg_df[\"displacement\"]],\n",
    "                     labels = [\"mpg\",\"displacement\"],\n",
    "                     display_legend=True)\n",
    "bar_chart.type = \"stacked\"\n",
    "bar_chart.colors = [\"#e71d36\",\"#ff9f1c\"]\n",
    "bar_chart.tooltip = Tooltip(fields=[\"x\", \"y\"])\n",
    "plt.show()"
   ]
  },
  {
   "cell_type": "markdown",
   "id": "1831ddbe",
   "metadata": {},
   "source": [
    "## Histogram"
   ]
  },
  {
   "cell_type": "code",
   "execution_count": 11,
   "id": "db7b1bcf",
   "metadata": {
    "scrolled": false
   },
   "outputs": [
    {
     "data": {
      "application/vnd.jupyter.widget-view+json": {
       "model_id": "f0fe5611535a438f916b7e3b74c8da7b",
       "version_major": 2,
       "version_minor": 0
      },
      "text/plain": [
       "VBox(children=(Figure(axes=[Axis(grid_lines='none', orientation='vertical', scale=LinearScale()), Axis(grid_li…"
      ]
     },
     "metadata": {},
     "output_type": "display_data"
    }
   ],
   "source": [
    "fig = plt.figure(title=\"Axis Bank Stock Prev Close Histogram\")\n",
    "fig.layout.width = \"600px\"\n",
    "fig.layout.height = \"500px\"\n",
    "histogram = plt.hist(sample = df2[\"Prev Close\"], bins=50)\n",
    "histogram.colors = [\"#7209b7\"]\n",
    "histogram.stroke=\"black\"\n",
    "histogram.stroke_width = 2.0\n",
    "plt.grids(value=\"none\")\n",
    "plt.show()"
   ]
  },
  {
   "cell_type": "markdown",
   "id": "96aade9f",
   "metadata": {},
   "source": [
    "## Line Chart"
   ]
  },
  {
   "cell_type": "code",
   "execution_count": 12,
   "id": "32f92311",
   "metadata": {},
   "outputs": [
    {
     "data": {
      "application/vnd.jupyter.widget-view+json": {
       "model_id": "9a1973b78e3f46e8a972e8fd90fc39e5",
       "version_major": 2,
       "version_minor": 0
      },
      "text/plain": [
       "VBox(children=(Figure(axes=[Axis(label='Date', scale=DateScale()), Axis(label='Open Price', orientation='verti…"
      ]
     },
     "metadata": {},
     "output_type": "display_data"
    }
   ],
   "source": [
    "fig = plt.figure(title=\"Axis Bank Stock Open Price\")\n",
    "line_chart = plt.plot(x=df2.index, y=df2.Open)\n",
    "plt.xlabel(\"Date\")\n",
    "plt.ylabel(\"Open Price\")\n",
    "plt.show()"
   ]
  },
  {
   "cell_type": "code",
   "execution_count": 13,
   "id": "8e6eb65d",
   "metadata": {},
   "outputs": [
    {
     "data": {
      "application/vnd.jupyter.widget-view+json": {
       "model_id": "a5b860a5b97c4e08b5d91bf285e318fd",
       "version_major": 2,
       "version_minor": 0
      },
      "text/plain": [
       "VBox(children=(Figure(axes=[Axis(label='Date', scale=DateScale()), Axis(label='Close Price', orientation='vert…"
      ]
     },
     "metadata": {},
     "output_type": "display_data"
    }
   ],
   "source": [
    "fig = plt.figure(title=\"Axis Bank Stock Price\", legend_location=\"top-right\")\n",
    "\n",
    "line_chart = plt.plot(x=df2.index, y=[df2[\"High\"], df2[\"Low\"],df2[\"Open\"],df2[\"Close\"]],\n",
    "                     labels=[\"High\",\"Low\",\"Open\",\"Close\"],\n",
    "                     display_legend=True)\n",
    "plt.xlabel(\"Date\")\n",
    "plt.ylabel(\"Close Price\")\n",
    "line_chart.tooltip = Tooltip(fields=[\"x\", \"y\"], labels=[\"High\",\"Low\",\"Open\",\"Close\"])\n",
    "\n",
    "plt.show()"
   ]
  },
  {
   "cell_type": "markdown",
   "id": "9d53e1a3",
   "metadata": {},
   "source": [
    "## CandleStick Chart"
   ]
  },
  {
   "cell_type": "code",
   "execution_count": 14,
   "id": "7119d170",
   "metadata": {
    "scrolled": true
   },
   "outputs": [
    {
     "data": {
      "application/vnd.jupyter.widget-view+json": {
       "model_id": "835ad812b7274c43a3dc93b958ccf672",
       "version_major": 2,
       "version_minor": 0
      },
      "text/plain": [
       "VBox(children=(Figure(axes=[Axis(label='Date', scale=DateScale()), Axis(orientation='vertical', scale=LinearSc…"
      ]
     },
     "metadata": {},
     "output_type": "display_data"
    }
   ],
   "source": [
    "fig = plt.figure(title=\"Axis Bank Stock CandleStick Chart\")\n",
    "fig.layout.width=\"700px\"\n",
    "axis_df = df2[\"2011-11\"]\n",
    "ohlc = plt.ohlc(x=axis_df.index, y=axis_df[[\"Open\",\"High\",\"Low\",\"Close\"]],marker=\"candle\", stroke=\"blue\")\n",
    "ohlc.colors=[\"#4361ee\", \"#ffd60a\"]\n",
    "plt.xlabel(\"Date\")\n",
    "plt.show()"
   ]
  },
  {
   "cell_type": "code",
   "execution_count": 15,
   "id": "3dfd5435",
   "metadata": {
    "scrolled": true
   },
   "outputs": [
    {
     "data": {
      "application/vnd.jupyter.widget-view+json": {
       "model_id": "6afd11ac9f1f42ab8d9c0b813b5455fa",
       "version_major": 2,
       "version_minor": 0
      },
      "text/plain": [
       "VBox(children=(Figure(axes=[Axis(label='Date', scale=DateScale()), Axis(orientation='vertical', scale=LinearSc…"
      ]
     },
     "metadata": {},
     "output_type": "display_data"
    }
   ],
   "source": [
    "fig = plt.figure(title=\"Axis Bank Stock CandleStick Chart\")\n",
    "fig.layout.width=\"700px\"\n",
    "axis_df = df2[\"2011-11\"]\n",
    "ohlc = plt.ohlc(x=axis_df.index, y=axis_df[[\"Open\",\"High\",\"Low\",\"Close\"]],marker=\"bar\", stroke=\"blue\")\n",
    "plt.xlabel(\"Date\")\n",
    "plt.show()"
   ]
  },
  {
   "cell_type": "markdown",
   "id": "ea9ccbc1",
   "metadata": {},
   "source": [
    "## Correlation Heatmap"
   ]
  },
  {
   "cell_type": "code",
   "execution_count": 16,
   "id": "31cec579",
   "metadata": {},
   "outputs": [
    {
     "data": {
      "application/vnd.jupyter.widget-view+json": {
       "model_id": "668c448bce094006afa88c9f9139f87e",
       "version_major": 2,
       "version_minor": 0
      },
      "text/plain": [
       "VBox(children=(Figure(axes=[ColorAxis(orientation='vertical', scale=ColorScale(), side='right'), Axis(scale=Li…"
      ]
     },
     "metadata": {},
     "output_type": "display_data"
    }
   ],
   "source": [
    "fig  = plt.figure(title=\"Correlation Heatmap - World Happiness Report\",padding_y=0)\n",
    "fig.layout.width = \"700px\"\n",
    "fig.layout.height = \"700px\"\n",
    "axes_options = {'color': {'orientation': \"vertical\",\"side\":\"right\"}}\n",
    "plt.heatmap(color=df3.corr().values, axes_options=axes_options)\n",
    "plt.show()"
   ]
  },
  {
   "cell_type": "markdown",
   "id": "8c2800e1",
   "metadata": {},
   "source": [
    "## Choropleth Maps"
   ]
  },
  {
   "cell_type": "code",
   "execution_count": 17,
   "id": "901963f3",
   "metadata": {},
   "outputs": [],
   "source": [
    "def map_data_to_color_mapping(map_data, column=\"Ladder score\"):\n",
    "    \"\"\"\n",
    "    Function to Map Country ID to Column Value from Happiness DataFrame\n",
    "    \"\"\"\n",
    "    name_to_id_mapping = []\n",
    "    for entry in map_data:\n",
    "        if entry[\"properties\"][\"name\"] == \"Netherlands\":\n",
    "            name_to_id_mapping.append((\"Netherlands\", entry[\"id\"]))\n",
    "        else:\n",
    "            name_to_id_mapping.append((entry[\"properties\"][\"name\"], entry[\"id\"]))\n",
    "\n",
    "    name_to_id_mapping = dict(name_to_id_mapping)\n",
    "\n",
    "    color = []\n",
    "    for name, idx in name_to_id_mapping.items():\n",
    "        score = df3[df3[\"Country name\"].str.contains(name)][\"Ladder score\"].values\n",
    "        if len(score) > 0:\n",
    "            color.append((idx,score[0]))\n",
    "    return dict(color)"
   ]
  },
  {
   "cell_type": "code",
   "execution_count": 18,
   "id": "b788aabf",
   "metadata": {},
   "outputs": [
    {
     "data": {
      "application/vnd.jupyter.widget-view+json": {
       "model_id": "81f884f823d540d8a300064f5d0d0628",
       "version_major": 2,
       "version_minor": 0
      },
      "text/plain": [
       "Figure(axes=[ColorAxis(scale=ColorScale(scheme='YlOrRd'))], fig_margin={'top': 60, 'bottom': 60, 'left': 60, '…"
      ]
     },
     "metadata": {},
     "output_type": "display_data"
    }
   ],
   "source": [
    "fig = plt.figure(title='World Happiness Report')\n",
    "\n",
    "plt.scales(scales={'color': bqplot.ColorScale(scheme='YlOrRd')})\n",
    "\n",
    "choropleth_map = plt.geo(map_data='WorldMap',\n",
    "                     colors={'default_color': 'Grey'})\n",
    "\n",
    "map_data = choropleth_map.map_data[\"objects\"][\"subunits\"][\"geometries\"]\n",
    "\n",
    "choropleth_map.color = map_data_to_color_mapping(map_data)\n",
    "\n",
    "choropleth_map.tooltip = Tooltip(fields=[\"color\"], labels=[\"Happiness Score\"])\n",
    "\n",
    "fig"
   ]
  },
  {
   "cell_type": "code",
   "execution_count": 19,
   "id": "0c1df288",
   "metadata": {},
   "outputs": [
    {
     "data": {
      "application/vnd.jupyter.widget-view+json": {
       "model_id": "6100402814ee45c79d03c8fbb277f003",
       "version_major": 2,
       "version_minor": 0
      },
      "text/plain": [
       "Figure(axes=[ColorAxis(scale=ColorScale(scheme='virdis'))], fig_margin={'top': 60, 'bottom': 60, 'left': 60, '…"
      ]
     },
     "metadata": {},
     "output_type": "display_data"
    }
   ],
   "source": [
    "fig = plt.figure(title='World Perceptions of corruption Report')\n",
    "\n",
    "plt.scales(scales={'color': bqplot.ColorScale(scheme='virdis')})\n",
    "\n",
    "choropleth_map = plt.geo(map_data='WorldMap',\n",
    "                     colors={'default_color': 'white'})\n",
    "\n",
    "map_data = choropleth_map.map_data[\"objects\"][\"subunits\"][\"geometries\"]\n",
    "\n",
    "choropleth_map.color = map_data_to_color_mapping(map_data, \"Perceptions of corruption\")\n",
    "\n",
    "choropleth_map.tooltip = Tooltip(fields=[\"color\"], labels=[\"Perceptions of corruption\"])\n",
    "\n",
    "fig"
   ]
  },
  {
   "cell_type": "code",
   "execution_count": null,
   "id": "be8b8e6d",
   "metadata": {},
   "outputs": [],
   "source": []
  }
 ],
 "metadata": {
  "hide_input": false,
  "kernelspec": {
   "display_name": "Python 3 (ipykernel)",
   "language": "python",
   "name": "python3"
  },
  "language_info": {
   "codemirror_mode": {
    "name": "ipython",
    "version": 3
   },
   "file_extension": ".py",
   "mimetype": "text/x-python",
   "name": "python",
   "nbconvert_exporter": "python",
   "pygments_lexer": "ipython3",
   "version": "3.9.7"
  },
  "nbTranslate": {
   "displayLangs": [
    "*"
   ],
   "hotkey": "alt-t",
   "langInMainMenu": true,
   "sourceLang": "en",
   "targetLang": "fr",
   "useGoogleTranslate": true
  },
  "toc": {
   "base_numbering": 1,
   "nav_menu": {},
   "number_sections": true,
   "sideBar": true,
   "skip_h1_title": false,
   "title_cell": "Table of Contents",
   "title_sidebar": "Contents",
   "toc_cell": false,
   "toc_position": {},
   "toc_section_display": true,
   "toc_window_display": false
  }
 },
 "nbformat": 4,
 "nbformat_minor": 5
}
